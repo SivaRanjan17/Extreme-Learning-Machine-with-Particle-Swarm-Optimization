{
 "cells": [
  {
   "cell_type": "markdown",
   "metadata": {
    "id": "SYnJJpnAyOIn"
   },
   "source": [
    "## PSO"
   ]
  },
  {
   "cell_type": "code",
   "execution_count": 4,
   "metadata": {
    "id": "_-09uiaRsEuC"
   },
   "outputs": [],
   "source": [
    "import numpy as np\n",
    "import math\n",
    "import pandas as pd\n",
    "import plotly.graph_objects as go\n",
    "import plotly.express as px"
   ]
  },
  {
   "cell_type": "code",
   "execution_count": 3,
   "metadata": {
    "id": "V1VA8E8guTUU"
   },
   "outputs": [],
   "source": [
    "MAX_ITRERATION = 10"
   ]
  },
  {
   "cell_type": "code",
   "execution_count": 5,
   "metadata": {
    "colab": {
     "base_uri": "https://localhost:8080/"
    },
    "id": "DD2AbsMxytWM",
    "outputId": "c73efce9-5b91-4b0d-e64c-5d42bee99bef"
   },
   "outputs": [
    {
     "output_type": "execute_result",
     "data": {
      "text/plain": "array([[-4.77004618, -4.03692116],\n       [ 2.44053126,  4.51280689],\n       [ 0.93757172, -0.03383775],\n       [ 0.48878623,  4.18859466],\n       [-3.82435683, -2.260458  ],\n       [ 4.82812535,  0.7284481 ],\n       [ 2.92263921, -2.61000536],\n       [ 2.21015871,  4.49055857],\n       [ 2.79609936, -4.21666409],\n       [ 0.7378079 , -2.80701795],\n       [-3.94269094,  2.53691163],\n       [ 4.31658762, -2.1942579 ],\n       [-2.26178632,  2.42556591],\n       [ 1.9100871 , -4.95925082],\n       [ 2.73615907, -1.9721551 ],\n       [ 3.01220619,  2.6602382 ],\n       [ 2.15431413, -4.38097271],\n       [-2.7409847 , -0.99230747],\n       [ 4.97064996,  0.74823022],\n       [ 4.6268126 ,  2.93504746]])"
     },
     "metadata": {},
     "execution_count": 5
    }
   ],
   "source": [
    "#Generating random numbers in the range of -5 to 5. \n",
    "initial_x = np.array([np.random.uniform(-5,5,2) for i in range(20)])\n",
    "v_x = np.array([np.array([0 for j in range(2)]) for i in range(20)])\n",
    "initial_x"
   ]
  },
  {
   "cell_type": "code",
   "execution_count": 6,
   "metadata": {
    "id": "FwYZEpgAzVxc"
   },
   "outputs": [],
   "source": [
    "#Maximum fitness function\n",
    "def fit_fun(row):\n",
    "  x = row[0]\n",
    "  y = row[1]\n",
    "  return 1/( (pow(x,2)) + (pow((y+1),2)) - (5*math.cos((1.25 * x) + 1.25)) - (3*math.cos((2.25*x) - 1.25)) + 0.01)"
   ]
  },
  {
   "cell_type": "code",
   "execution_count": 7,
   "metadata": {
    "id": "IRMx3ehVz_fP"
   },
   "outputs": [],
   "source": [
    "p_best, p_best_x = [0 for row in initial_x], initial_x\n",
    "g_best, g_best_x = 0,[]"
   ]
  },
  {
   "cell_type": "code",
   "execution_count": 10,
   "metadata": {
    "colab": {
     "base_uri": "https://localhost:8080/"
    },
    "id": "MsciFrcT17_a",
    "outputId": "2398ab5b-c56d-474f-8b8e-4dc8b57aadb2"
   },
   "outputs": [
    {
     "output_type": "stream",
     "name": "stdout",
     "text": "[[0.50334649 0.41156696]\n [0.17660416 0.92272556]\n [0.12992711 0.17482265]\n [0.94179001 0.8094048 ]\n [0.40138475 0.50162689]\n [0.57098394 0.23742035]\n [0.03943432 0.27407858]\n [0.13402642 0.97026949]\n [0.86855412 0.06271112]\n [0.89265839 0.89644701]]\n"
    }
   ],
   "source": [
    "itr = 1\n",
    "c1,c2=1,1\n",
    "random_numbers = np.array([np.random.uniform(0,1,2) for i in range(MAX_ITRERATION)])\n",
    "print(random_numbers)"
   ]
  },
  {
   "cell_type": "code",
   "execution_count": 11,
   "metadata": {
    "id": "cOHBjJAk2tox"
   },
   "outputs": [],
   "source": [
    "#velocity calculation\n",
    "def calculate_v(old_v,c1,c2,r1,r2,x,p_best_x,g_best_x):\n",
    "  return old_v + c1*r1*(p_best_x-x) + c2*r2*(g_best_x-x)"
   ]
  },
  {
   "cell_type": "code",
   "execution_count": 12,
   "metadata": {
    "colab": {
     "base_uri": "https://localhost:8080/",
     "height": 1000
    },
    "id": "2_Q04rfp39fX",
    "outputId": "627f1553-88a9-4999-eaa1-50bbd2003d84"
   },
   "outputs": [
    {
     "output_type": "stream",
     "name": "stdout",
     "text": "Generartion:  0 \n\nCurrent Fitness Function: 0.03391876032473722  Point:  [-4.77004618 -4.03692116]\nCurrent Fitness Function: 0.025176210481519728  Point:  [2.44053126 4.51280689]\nCurrent Fitness Function: 0.2759078260181402  Point:  [ 0.93757172 -0.03383775]\nCurrent Fitness Function: 0.03900936286371657  Point:  [0.48878623 4.18859466]\nCurrent Fitness Function: 0.04241233281472194  Point:  [-3.82435683 -2.260458  ]\nCurrent Fitness Function: 0.03764780681184911  Point:  [4.82812535 0.7284481 ]\nCurrent Fitness Function: 0.11809364835978227  Point:  [ 2.92263921 -2.61000536]\nCurrent Fitness Function: 0.024528893745592355  Point:  [2.21015871 4.49055857]\nCurrent Fitness Function: 0.05867638340901556  Point:  [ 2.79609936 -4.21666409]\nCurrent Fitness Function: 0.2565653899742441  Point:  [ 0.7378079  -2.80701795]\nCurrent Fitness Function: 0.02884913530261008  Point:  [-3.94269094  2.53691163]\nCurrent Fitness Function: 0.058449722001520175  Point:  [ 4.31658762 -2.1942579 ]\nCurrent Fitness Function: 0.07195778636643407  Point:  [-2.26178632  2.42556591]\nCurrent Fitness Function: 0.037427513817279455  Point:  [ 1.9100871  -4.95925082]\nCurrent Fitness Function: 0.1238501221386832  Point:  [ 2.73615907 -1.9721551 ]\nCurrent Fitness Function: 0.05317423396631959  Point:  [3.01220619 2.6602382 ]\nCurrent Fitness Function: 0.04493395189051195  Point:  [ 2.15431413 -4.38097271]\nCurrent Fitness Function: 0.1098947043749907  Point:  [-2.7409847  -0.99230747]\nCurrent Fitness Function: 0.03510119243863049  Point:  [4.97064996 0.74823022]\nCurrent Fitness Function: 0.027669876839468567  Point:  [4.6268126  2.93504746]\n================================================\nGenerartion:  1 \n\nCurrent Fitness Function: 0.16461113125186844  Point:  [-2.42097924 -2.3893843 ]\nCurrent Fitness Function: 0.04150113563592257  Point:  [1.82196278 2.64155819]\nCurrent Fitness Function: 0.2759078260181402  Point:  [ 0.93757172 -0.03383775]\nCurrent Fitness Function: 0.08357349348335072  Point:  [0.67349151 2.450781  ]\nCurrent Fitness Function: -1.3230125925257437  Point:  [-1.86450438 -1.34405468]\nCurrent Fitness Function: 0.14637495074846008  Point:  [3.22690203 0.41471643]\nCurrent Fitness Function: 0.08881925259241129  Point:  [ 2.10565102 -1.54973989]\nCurrent Fitness Function: 0.042764528696905564  Point:  [1.68640395 2.62846654]\nCurrent Fitness Function: 0.07512140435907427  Point:  [ 2.03119079 -2.49515097]\nCurrent Fitness Function: 0.5323537359982945  Point:  [ 0.82002409 -1.66566861]\nCurrent Fitness Function: 0.17844029224560343  Point:  [-1.93413608  1.47887613]\nCurrent Fitness Function: 0.16806818729898562  Point:  [ 2.92589633 -1.30510035]\nCurrent Fitness Function: 0.21473488364877236  Point:  [-0.94503626  1.41335663]\nCurrent Fitness Function: 0.07900486268390323  Point:  [ 1.50983191 -2.93211354]\nCurrent Fitness Function: 0.08987410151793893  Point:  [ 1.99591994 -1.17440772]\nCurrent Fitness Function: 0.05773367544189339  Point:  [2.15835519 1.55144556]\nCurrent Fitness Function: 0.07967580734215023  Point:  [ 1.65354316 -2.5918356 ]\nCurrent Fitness Function: -0.8428895013406105  Point:  [-1.22701242 -0.597833  ]\nCurrent Fitness Function: 0.14518886652254853  Point:  [3.31076822 0.42635689]\nCurrent Fitness Function: 0.08060618042100963  Point:  [3.10844296 1.7131524 ]\n================================================\nGenerartion:  2 \n\nCurrent Fitness Function: 0.148007423711099  Point:  [ 2.9186443  -0.07405647]\nCurrent Fitness Function: 0.377714504063355  Point:  [ 0.27887986 -3.20407875]\nCurrent Fitness Function: 0.5496338730662812  Point:  [ 0.82910752 -1.53956978]\nCurrent Fitness Function: 0.1304048118243405  Point:  [ 0.99340614 -3.08538591]\nCurrent Fitness Function: 0.09463234479271146  Point:  [ 2.226313   -0.88625338]\nCurrent Fitness Function: -1.2735814710543591  Point:  [-0.59520908 -1.81863968]\nCurrent Fitness Function: -0.4446729688050407  Point:  [ 0.24666552 -0.7836921 ]\nCurrent Fitness Function: 0.34426015413421174  Point:  [ 0.36321836 -3.19593373]\nCurrent Fitness Function: -0.6732915265124273  Point:  [ 0.14870776 -0.00825328]\nCurrent Fitness Function: 0.39545295646291584  Point:  [ 0.90224028 -0.52431927]\nCurrent Fitness Function: 0.09772482325910847  Point:  [ 2.61575275 -2.48071116]\nCurrent Fitness Function: -0.5663022765301794  Point:  [-0.4079371  -0.74864835]\nCurrent Fitness Function: 0.0759386813060213  Point:  [ 2.00038009 -2.43994792]\nCurrent Fitness Function: 4.5809471534703  Point:  [0.47307341 0.26360484]\nCurrent Fitness Function: -0.4669733217386498  Point:  [ 0.30138097 -0.97084482]\nCurrent Fitness Function: -5.163344689921979  Point:  [ 0.06959188 -2.52586054]\nCurrent Fitness Function: -1.3809472430314138  Point:  [0.38366284 0.05189947]\nCurrent Fitness Function: 0.09003393969860571  Point:  [ 1.90843896 -1.25834357]\nCurrent Fitness Function: -1.44866851126314  Point:  [-0.64738679 -1.82588184]\nCurrent Fitness Function: 0.9484508937542526  Point:  [-0.52150926 -2.62646714]\n================================================\nGenerartion:  3 \n\nCurrent Fitness Function: 0.015272060469939102  Point:  [7.13696479 1.99947835]\nCurrent Fitness Function: 0.018499927967900804  Point:  [-1.23025363 -8.44348604]\nCurrent Fitness Function: 0.34207030324426513  Point:  [ 0.65840048 -2.73006605]\nCurrent Fitness Function: 0.01802705213721611  Point:  [ 1.22235483 -8.03607337]\nCurrent Fitness Function: 0.026449969454236392  Point:  [ 6.01062438 -0.22743082]\nCurrent Fitness Function: 0.03644824797846914  Point:  [-3.73396437 -3.39779877]\nCurrent Fitness Function: -2.0627346837229226  Point:  [-1.22505724 -0.07184068]\nCurrent Fitness Function: 0.018579384980289094  Point:  [-0.94076209 -8.41552828]\nCurrent Fitness Function: 0.11434244621024817  Point:  [-1.43248324  2.20305594]\nCurrent Fitness Function: 0.20638494623941964  Point:  [0.89874626 0.60648483]\nCurrent Fitness Function: 0.016722870199651636  Point:  [ 6.19989879 -5.44607211]\nCurrent Fitness Function: 0.05980159285474857  Point:  [-3.15459459 -0.08752975]\nCurrent Fitness Function: 0.029404040144033822  Point:  [ 4.2960992  -5.31996149]\nCurrent Fitness Function: 0.054423082333429025  Point:  [-0.56368509  3.45932323]\nCurrent Fitness Function: -0.9082186977768123  Point:  [-1.0467986  -0.68156951]\nCurrent Fitness Function: 0.05096778743523112  Point:  [-1.67724674 -5.5857523 ]\nCurrent Fitness Function: 0.09812171947249014  Point:  [-0.70559461  2.38915258]\nCurrent Fitness Function: 0.07149051328345662  Point:  [ 4.18886975 -1.61821777]\nCurrent Fitness Function: 0.035746301145256495  Point:  [-3.89538833 -3.42020409]\nCurrent Fitness Function: 0.019239325324156117  Point:  [-3.9775859  -6.46083664]\n================================================\nGenerartion:  4 \n\nCurrent Fitness Function: 0.06982656115965512  Point:  [-3.04007658 -1.46539817]\nCurrent Fitness Function: -0.4920706849841228  Point:  [ 0.0605808  -1.70091073]\nCurrent Fitness Function: -1.1914604266929627  Point:  [ 0.498459   -0.37627323]\nCurrent Fitness Function: 16.637157880663974  Point:  [ 0.62920995 -1.60645345]\nCurrent Fitness Function: 0.08329388049462169  Point:  [1.74878877 0.20836586]\nCurrent Fitness Function: 0.08510471858531944  Point:  [3.08815134 1.57718852]\nCurrent Fitness Function: 0.11748403116311212  Point:  [ 2.58395417 -1.47889618]\nCurrent Fitness Function: -0.4980539032737212  Point:  [ 0.12769846 -1.69442882]\nCurrent Fitness Function: 0.07545803854045505  Point:  [-1.47130753  2.84456413]\nCurrent Fitness Function: -0.7961921988049311  Point:  [ 0.47657084 -0.68013118]\nCurrent Fitness Function: 0.05162710274863287  Point:  [-2.51182789  2.73185393]\nCurrent Fitness Function: 0.1342514107866773  Point:  [ 2.7615454  -0.28889695]\nCurrent Fitness Function: 0.08414355381094599  Point:  [-1.43860613  2.66076206]\nCurrent Fitness Function: 0.5338689934823972  Point:  [0.21512251 1.05871616]\nCurrent Fitness Function: 0.10375582592427147  Point:  [ 2.39796526 -0.84272614]\nCurrent Fitness Function: 0.0390817834701936  Point:  [1.92872566 2.81059532]\nCurrent Fitness Function: 0.06727895856656893  Point:  [-0.84083251  3.00597714]\nCurrent Fitness Function: 0.0633425477407906  Point:  [-3.06475053  0.13454035]\nCurrent Fitness Function: 0.0862765796648536  Point:  [3.17915026 1.58981898]\nCurrent Fitness Function: -0.6993300779679211  Point:  [-0.57637908 -1.24124004]\n================================================\nGenerartion:  5 \n\nCurrent Fitness Function: 0.007311702204142131  Point:  [-11.12800894  -5.37190575]\nCurrent Fitness Function: 0.024680114978299455  Point:  [1.72427682 4.48569817]\nCurrent Fitness Function: 0.3843550890375379  Point:  [0.53682298 0.89349861]\nCurrent Fitness Function: 0.03186157046846302  Point:  [0.03606507 4.82316646]\nCurrent Fitness Function: 0.08632485787970583  Point:  [-2.88298674 -0.70556309]\nCurrent Fitness Function: 0.010092083427243938  Point:  [8.73248834 4.48857683]\nCurrent Fitness Function: 0.026672058738547017  Point:  [ 5.54835633 -3.40394781]\nCurrent Fitness Function: 0.025575759756621495  Point:  [1.54226475 4.46812028]\nCurrent Fitness Function: 0.44929952709385335  Point:  [-0.4408723   0.99583062]\nCurrent Fitness Function: 0.9096728393483543  Point:  [ 0.26882019 -2.82699505]\nCurrent Fitness Function: 0.005590540324561597  Point:  [-9.41604887  8.23064217]\nCurrent Fitness Function: 0.01591503133759745  Point:  [ 7.67401655 -1.55907446]\nCurrent Fitness Function: 0.008875382800770862  Point:  [-5.9379279   8.00024606]\nCurrent Fitness Function: 0.09187814952652314  Point:  [ 1.30518506 -2.99795719]\nCurrent Fitness Function: 0.036258005948789994  Point:  [ 5.09121973 -1.84032449]\nCurrent Fitness Function: 0.008660434738184529  Point:  [4.97499583 8.485829  ]\nCurrent Fitness Function: 0.5110722373408215  Point:  [-0.18437516  1.06149853]\nCurrent Fitness Function: 0.013235479192796728  Point:  [-8.33542625  0.56166964]\nCurrent Fitness Function: 0.009601607536439235  Point:  [9.02739967 4.52950992]\nCurrent Fitness Function: 0.043081932460563424  Point:  [3.45160751 3.23914666]\n================================================\nGenerartion:  6 \n\nCurrent Fitness Function: 0.006249915444656184  Point:  [-11.45296417  -6.68144649]\nCurrent Fitness Function: 0.022608466216095777  Point:  [2.30268322 4.83516719]\nCurrent Fitness Function: 0.43975850929879656  Point:  [0.76401129 0.18048799]\nCurrent Fitness Function: 0.021130917783833216  Point:  [-0.07757895  6.05505406]\nCurrent Fitness Function: 0.04409020263374032  Point:  [-3.76356719 -1.936553  ]\nCurrent Fitness Function: 0.009867067364046458  Point:  [9.3093408  3.62677206]\nCurrent Fitness Function: 0.02130118768787496  Point:  [ 5.84561073 -4.44890932]\nCurrent Fitness Function: 0.02231355843924761  Point:  [2.0668367  4.81239021]\nCurrent Fitness Function: 0.5263394487996081  Point:  [ 0.84362223 -1.47073808]\nCurrent Fitness Function: 0.09007963599599712  Point:  [ 0.1466334 -4.6840775]\nCurrent Fitness Function: 0.005926082464739487  Point:  [-9.66326894  7.53875375]\nCurrent Fitness Function: 0.014715406830589096  Point:  [ 8.20280687 -2.69548557]\nCurrent Fitness Function: 0.009797684327675391  Point:  [-6.02721657  7.29789602]\nCurrent Fitness Function: 0.03920077227654672  Point:  [ 1.75963498 -4.86195971]\nCurrent Fitness Function: 0.029910203268326135  Point:  [ 5.38040047 -2.85767025]\nCurrent Fitness Function: 0.009299874584841697  Point:  [5.38123143 7.80552788]\nCurrent Fitness Function: 3.932027775839211  Point:  [ 0.66524386 -1.51640617]\nCurrent Fitness Function: 0.013852291185720327  Point:  [-8.28337864 -0.41325358]\nCurrent Fitness Function: 0.009056650803306419  Point:  [9.61764319 3.66956381]\nCurrent Fitness Function: 0.026934462678013985  Point:  [4.54091363 3.21991801]\n================================================\nGenerartion:  7 \n\nCurrent Fitness Function: 0.010289573873866338  Point:  [-8.11028408 -6.43078579]\nCurrent Fitness Function: 0.03733629706711081  Point:  [2.34261914 3.10210377]\nCurrent Fitness Function: 0.3431775154090902  Point:  [ 0.95682045 -1.09011432]\nCurrent Fitness Function: 0.031142807787257833  Point:  [0.03036447 4.88496022]\nCurrent Fitness Function: 0.04817777455220423  Point:  [-3.20397467 -3.03565185]\nCurrent Fitness Function: 0.01581843674459958  Point:  [7.26729848 1.20398704]\nCurrent Fitness Function: 0.02987085269684233  Point:  [ 4.59789602 -4.64229863]\nCurrent Fitness Function: 0.03629206706431741  Point:  [2.13020492 3.08158978]\nCurrent Fitness Function: 0.05031305593161423  Point:  [ 2.06935095 -3.97450346]\nCurrent Fitness Function: 0.052820490200167  Point:  [ 0.16152886 -5.62441634]\nCurrent Fitness Function: 0.014040428613392985  Point:  [-6.78474792  4.10139278]\nCurrent Fitness Function: 0.019848354337550368  Point:  [ 6.44774512 -3.4785874 ]\nCurrent Fitness Function: 0.02160880635219505  Point:  [-4.09170899  3.92300171]\nCurrent Fitness Function: 0.03088467825336417  Point:  [ 1.85352492 -5.63157454]\nCurrent Fitness Function: 0.04752053086307975  Point:  [ 4.26310779 -3.4971646 ]\nCurrent Fitness Function: 0.022502423715535423  Point:  [4.35794779 4.29897879]\nCurrent Fitness Function: 0.053734140254644375  Point:  [ 1.50498675 -4.1189909 ]\nCurrent Fitness Function: 0.037978898406167895  Point:  [-5.57002086 -1.73804193]\nCurrent Fitness Function: 0.01514781159393634  Point:  [7.49564237 1.23568071]\nCurrent Fitness Function: 0.04277623611943341  Point:  [4.35847235 1.6473361 ]\n================================================\nGenerartion:  8 \n\nCurrent Fitness Function: 0.05475973613154302  Point:  [ 4.47457759 -0.95756803]\nCurrent Fitness Function: 0.12938053821513196  Point:  [ 0.4434908  -4.04472415]\nCurrent Fitness Function: 0.1970630997243854  Point:  [ 0.81464224 -2.92194364]\nCurrent Fitness Function: 0.13794178227690346  Point:  [ 0.7996105  -3.45357521]\nCurrent Fitness Function: 0.07751891067304018  Point:  [ 1.80264196 -2.45996691]\nCurrent Fitness Function: 0.12390521140577931  Point:  [-1.75699849 -4.05146576]\nCurrent Fitness Function: -1.1219135889198733  Point:  [-0.72504238 -1.617719  ]\nCurrent Fitness Function: 0.12468323407057702  Point:  [ 0.50038063 -4.03922999]\nCurrent Fitness Function: 0.053861216592797884  Point:  [ 1.73347476 -3.84505146]\nCurrent Fitness Function: 0.6739877648448458  Point:  [ 0.64458089 -2.29132001]\nCurrent Fitness Function: 0.03613635938546408  Point:  [ 3.93742037 -5.22560378]\nCurrent Fitness Function: -5.5979314080972316  Point:  [-1.42488458 -2.15391009]\nCurrent Fitness Function: 0.04236678977766615  Point:  [ 2.84609949 -5.15331299]\nCurrent Fitness Function: -4.451193873491916  Point:  [ 0.57448243 -1.70562739]\nCurrent Fitness Function: -3.7259210466953014  Point:  [-0.58469657 -2.09776804]\nCurrent Fitness Function: 0.05863865981157354  Point:  [-0.57801993 -5.30567308]\nCurrent Fitness Function: 0.0612550222273226  Point:  [ 1.3824424  -3.93492209]\nCurrent Fitness Function: 0.11031071245128767  Point:  [ 3.53742703 -2.83520587]\nCurrent Fitness Function: 0.1182834807301346  Point:  [-1.84953205 -4.06430923]\nCurrent Fitness Function: 0.21634847301142487  Point:  [-0.09640493 -3.6551011 ]\n================================================\nGenerartion:  9 \n\nCurrent Fitness Function: 0.007168335051154908  Point:  [10.82912766  3.23134747]\nCurrent Fitness Function: 0.011745510007633981  Point:  [ -1.5869644  -10.30849935]\nCurrent Fitness Function: 0.16231774865288412  Point:  [ 0.67339923 -3.47061059]\nCurrent Fitness Function: 0.011075184518442225  Point:  [  1.41016842 -10.07195035]\nCurrent Fitness Function: 0.017777093861566562  Point:  [ 7.10365258 -0.46390182]\nCurrent Fitness Function: 0.01779722460904557  Point:  [-6.30286632 -5.27446816]\nCurrent Fitness Function: 0.08067756321523423  Point:  [-2.79484522  0.5457127 ]\nCurrent Fitness Function: 0.011811205212020502  Point:  [ -1.24049749 -10.27503917]\nCurrent Fitness Function: -1.6841855139401662  Point:  [ 0.55546381 -1.5129948 ]\nCurrent Fitness Function: 0.25913749668321473  Point:  [0.80030048 0.6194623 ]\nCurrent Fitness Function: 0.007280799537308404  Point:  [ 9.35236253 -8.50243571]\nCurrent Fitness Function: 0.041012244062759426  Point:  [-5.38981102 -0.05766396]\nCurrent Fitness Function: 0.010427639439031675  Point:  [ 6.35207777 -8.30369221]\nCurrent Fitness Function: 0.0431806645482469  Point:  [-0.78920727  3.93692384]\nCurrent Fitness Function: 0.19779208473730897  Point:  [-2.47203264 -0.55845896]\nCurrent Fitness Function: 0.004735837431760931  Point:  [ -5.43828092 -14.67834275]\nCurrent Fitness Function: -2.8021342167119685  Point:  [ 0.58973625 -1.50422043]\nCurrent Fitness Function: 0.00602717282762685  Point:  [12.46249737 -3.85531338]\nCurrent Fitness Function: 0.016525656977932936  Point:  [-6.55726172 -5.30977772]\nCurrent Fitness Function: 0.014619183836416331  Point:  [-4.87500421 -7.93564105]\n================================================\n"
    }
   ],
   "source": [
    "#Calculating the best point.\n",
    "for iteration in range(0,MAX_ITRERATION):\n",
    "  initial_x = initial_x + v_x\n",
    "  current_f = [fit_fun(row) for row in initial_x]\n",
    "  for i,f_val in enumerate(current_f):\n",
    "    if p_best[i] < f_val:\n",
    "      p_best[i] = f_val\n",
    "      p_best_x[i] = initial_x[i]\n",
    "    if p_best[i] > g_best:\n",
    "      g_best = p_best[i]\n",
    "      g_best_x = p_best_x[i]\n",
    "  print(\"Generartion: \",iteration,\"\\n\")\n",
    "  for i in range(len(current_f)):\n",
    "    print(\"Current Fitness Function:\",current_f[i],\" Point: \",initial_x[i])\n",
    "  print(\"================================================\")\n",
    "  v = []\n",
    "  #Changing its position after calculating velocity.\n",
    "  for i, particle in enumerate(initial_x):\n",
    "    v.append(calculate_v(v_x[i],c1,c2,random_numbers[iteration][0], random_numbers[iteration][1],particle,p_best_x[i],g_best_x))\n",
    "  v_x = np.array(v)"
   ]
  },
  {
   "cell_type": "code",
   "execution_count": 13,
   "metadata": {
    "colab": {
     "base_uri": "https://localhost:8080/"
    },
    "id": "HO-GN4Ji6OuG",
    "outputId": "47699b94-d367-440b-fb26-974f8bd21887"
   },
   "outputs": [
    {
     "output_type": "stream",
     "name": "stdout",
     "text": "[ 0.62920995 -1.60645345]\n16.637157880663974\n"
    }
   ],
   "source": [
    "#printing the best g_best and the point\n",
    "print(g_best_x)\n",
    "y = fit_fun(g_best_x)\n",
    "print(y)"
   ]
  },
  {
   "cell_type": "code",
   "execution_count": null,
   "metadata": {},
   "outputs": [],
   "source": []
  }
 ],
 "metadata": {
  "colab": {
   "name": "Copy of PSO and 3D contoue.ipynb",
   "provenance": []
  },
  "kernelspec": {
   "display_name": "Python 3",
   "language": "python",
   "name": "python3"
  },
  "language_info": {
   "codemirror_mode": {
    "name": "ipython",
    "version": 3
   },
   "file_extension": ".py",
   "mimetype": "text/x-python",
   "name": "python",
   "nbconvert_exporter": "python",
   "pygments_lexer": "ipython3",
   "version": "3.8.5-final"
  }
 },
 "nbformat": 4,
 "nbformat_minor": 1
}