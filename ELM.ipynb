{
 "cells": [
  {
   "cell_type": "code",
   "execution_count": 2,
   "metadata": {},
   "outputs": [],
   "source": [
    "import pandas as pd\n",
    "from sklearn.datasets import make_classification\n",
    "from sklearn.feature_selection import RFE\n",
    "from sklearn.tree import DecisionTreeClassifier\n",
    "from numpy import argmax, array\n",
    "from sklearn.preprocessing import LabelEncoder\n",
    "from sklearn.preprocessing import OneHotEncoder\n",
    "import numpy as np\n",
    "import pandas as pd\n",
    "from sklearn.model_selection import train_test_split\n",
    "from sklearn.preprocessing import OneHotEncoder\n",
    "from sklearn.preprocessing import MinMaxScaler\n",
    "from sklearn.preprocessing import StandardScaler\n",
    "from scipy.linalg import pinv2\n"
   ]
  },
  {
   "cell_type": "code",
   "execution_count": 3,
   "metadata": {},
   "outputs": [
    {
     "output_type": "stream",
     "name": "stdout",
     "text": "(22544, 42) (125973, 42)\n"
    }
   ],
   "source": [
    "train = pd.read_csv(\"kdd_train.csv\")\n",
    "test = pd.read_csv(\"kdd_test.csv\")\n",
    "\n",
    "print(test.shape,train.shape)\n",
    "#print(test['duration'])"
   ]
  },
  {
   "cell_type": "code",
   "execution_count": 4,
   "metadata": {
    "tags": [
     "outputPrepend"
    ]
   },
   "outputs": [
    {
     "output_type": "stream",
     "name": "stdout",
     "text": "duration  protocol_type  service  flag  src_bytes  dst_bytes  land  \\\n0         5              1       51     9       2429        475     0   \n1         0              2       12     9         45        134     0   \n2         0              2       12     9         45         80     0   \n3      1979              2       41     9        145        105     0   \n4     14462              1       41     4          1          0     0   \n\n   wrong_fragment  urgent  hot  ...  dst_host_count  dst_host_srv_count  \\\n0               0       0    0  ...             180                  57   \n1               0       0    0  ...             194                 155   \n2               0       0    0  ...             255                 255   \n3               0       0    0  ...             255                   2   \n4               0       0    0  ...             255                   2   \n\n   dst_host_same_srv_rate  dst_host_diff_srv_rate  \\\n0                    0.11                    0.02   \n1                    0.80                    0.02   \n2                    1.00                    0.00   \n3                    0.01                    0.84   \n4                    0.01                    0.68   \n\n   dst_host_same_src_port_rate  dst_host_srv_diff_host_rate  \\\n0                         0.01                         0.04   \n1                         0.01                         0.00   \n2                         0.01                         0.00   \n3                         1.00                         0.00   \n4                         1.00                         0.00   \n\n   dst_host_serror_rate  dst_host_srv_serror_rate  dst_host_rerror_rate  \\\n0                   0.0                       0.0                  0.87   \n1                   0.0                       0.0                  0.00   \n2                   0.0                       0.0                  0.00   \n3                   0.0                       0.0                  0.00   \n4                   0.0                       0.0                  1.00   \n\n   dst_host_srv_rerror_rate  \n0                       0.0  \n1                       0.0  \n2                       0.0  \n3                       0.0  \n4                       1.0  \n\n[5 rows x 41 columns] 0    16\n1    16\n2    16\n3    16\n4    20\nName: labels, dtype: int64\n"
    }
   ],
   "source": [
    "for i in ['protocol_type', 'service', \"flag\", \"labels\"]:\n",
    "    values_train = array(train[i])\n",
    "    values_test = array(test[i])\n",
    "    label_encoder = LabelEncoder()\n",
    "    integer_encoded_train = label_encoder.fit_transform(values_train)\n",
    "    integer_encoded_test = label_encoder.fit_transform(values_test)\n",
    "    train[i] = integer_encoded_train\n",
    "    test[i] = integer_encoded_test\n",
    "\n",
    "X_train = train.iloc[:, :41]\n",
    "y_train = train.iloc[:, 41]\n",
    "\n",
    "X_test = test.iloc[:, :41]\n",
    "y_test = test.iloc[:, 41]\n",
    "\n",
    "#print(X_train.head(),y_train.head())\n",
    "print(X_test.head(),y_test.head())\n",
    "#print(list(y_train))"
   ]
  },
  {
   "cell_type": "code",
   "execution_count": 6,
   "metadata": {},
   "outputs": [
    {
     "output_type": "stream",
     "name": "stdout",
     "text": "Column: 0, Selected True, Rank: 1.000\nColumn: 1, Selected True, Rank: 1.000\nColumn: 2, Selected True, Rank: 1.000\nColumn: 3, Selected True, Rank: 1.000\nColumn: 4, Selected True, Rank: 1.000\nColumn: 5, Selected False, Rank: 2.000\nColumn: 6, Selected False, Rank: 5.000\nColumn: 7, Selected True, Rank: 1.000\nColumn: 8, Selected False, Rank: 14.000\nColumn: 9, Selected True, Rank: 1.000\nColumn: 10, Selected False, Rank: 3.000\nColumn: 11, Selected False, Rank: 8.000\nColumn: 12, Selected True, Rank: 1.000\nColumn: 13, Selected False, Rank: 12.000\nColumn: 14, Selected False, Rank: 18.000\nColumn: 15, Selected False, Rank: 15.000\nColumn: 16, Selected False, Rank: 10.000\nColumn: 17, Selected False, Rank: 9.000\nColumn: 18, Selected False, Rank: 19.000\nColumn: 19, Selected False, Rank: 21.000\nColumn: 20, Selected False, Rank: 22.000\nColumn: 21, Selected False, Rank: 20.000\nColumn: 22, Selected True, Rank: 1.000\nColumn: 23, Selected False, Rank: 7.000\nColumn: 24, Selected True, Rank: 1.000\nColumn: 25, Selected False, Rank: 17.000\nColumn: 26, Selected True, Rank: 1.000\nColumn: 27, Selected False, Rank: 11.000\nColumn: 28, Selected True, Rank: 1.000\nColumn: 29, Selected True, Rank: 1.000\nColumn: 30, Selected False, Rank: 16.000\nColumn: 31, Selected True, Rank: 1.000\nColumn: 32, Selected True, Rank: 1.000\nColumn: 33, Selected False, Rank: 6.000\nColumn: 34, Selected True, Rank: 1.000\nColumn: 35, Selected True, Rank: 1.000\nColumn: 36, Selected True, Rank: 1.000\nColumn: 37, Selected True, Rank: 1.000\nColumn: 38, Selected True, Rank: 1.000\nColumn: 39, Selected False, Rank: 4.000\nColumn: 40, Selected False, Rank: 13.000\n(125973, 20)    duration  protocol_type  service  flag  src_bytes  wrong_fragment  hot  \\\n0         5              1       51     9       2429               0    0   \n1         0              2       12     9         45               0    0   \n2         0              2       12     9         45               0    0   \n3      1979              2       41     9        145               0    0   \n4     14462              1       41     4          1               0    0   \n\n   num_compromised  count  serror_rate  rerror_rate  same_srv_rate  \\\n0                0      1          0.0          0.0           1.00   \n1                0    192          0.0          0.0           0.99   \n2                0    121          0.0          0.0           1.00   \n3                0      2          0.0          0.0           1.00   \n4                0      2          0.0          1.0           1.00   \n\n   diff_srv_rate  dst_host_count  dst_host_srv_count  dst_host_diff_srv_rate  \\\n0           0.00             180                  57                    0.02   \n1           0.01             194                 155                    0.02   \n2           0.00             255                 255                    0.00   \n3           0.00             255                   2                    0.84   \n4           0.00             255                   2                    0.68   \n\n   dst_host_same_src_port_rate  dst_host_srv_diff_host_rate  \\\n0                         0.01                         0.04   \n1                         0.01                         0.00   \n2                         0.01                         0.00   \n3                         1.00                         0.00   \n4                         1.00                         0.00   \n\n   dst_host_serror_rate  dst_host_srv_serror_rate  \n0                   0.0                       0.0  \n1                   0.0                       0.0  \n2                   0.0                       0.0  \n3                   0.0                       0.0  \n4                   0.0                       0.0  \n0         0.00\n1         0.00\n2         0.00\n3         0.01\n4         0.00\n          ... \n125968    0.00\n125969    0.00\n125970    0.00\n125971    0.00\n125972    0.00\nName: dst_host_srv_rerror_rate, Length: 125973, dtype: float64\n"
    }
   ],
   "source": [
    "\n",
    "rfe = RFE(estimator=DecisionTreeClassifier(), n_features_to_select=20)\n",
    "# fit RFE\n",
    "rfe.fit(X_train, y_train)\n",
    "# summarize all features\n",
    "rfe_X_train = pd.DataFrame()\n",
    "rfe_X_test = pd.DataFrame()\n",
    "for i in range(X_train.shape[1]):\n",
    "    print('Column: %d, Selected %s, Rank: %.3f' % (i, rfe.support_[i], rfe.ranking_[i]))\n",
    "    col_name_train = train[train.columns[i]]\n",
    "    col_name_test = test[test.columns[i]]\n",
    "    if rfe.support_[i]:\n",
    "        rfe_X_train = pd.concat([rfe_X_train, col_name_train], axis = 1)\n",
    "        rfe_X_test = pd.concat([rfe_X_test, col_name_test], axis = 1)\n",
    "      \n",
    "print (rfe_X_train.shape, rfe_X_test.head())\n",
    "print(col_name_train)\n"
   ]
  },
  {
   "cell_type": "code",
   "execution_count": 7,
   "metadata": {},
   "outputs": [
    {
     "output_type": "stream",
     "name": "stdout",
     "text": "[[ 4.21070320e+00  3.87351083e+00 -4.68262300e+00  1.40342188e+00\n  -3.44133012e+00  8.91082409e-01 -4.32393514e+00 -4.48365064e+00\n   3.05354569e+00  1.38371230e+00  3.80441794e+00 -1.92678114e+00\n  -4.37559915e+00 -2.02974517e+00  1.38452213e+00 -8.55795008e-01\n  -3.54894330e-01 -2.13663949e-01  1.95140072e+00 -3.11413889e+00]\n [-1.77651291e+00  3.47453315e-01  1.06027848e+00  2.53767634e+00\n   1.03378345e+00  4.02577455e+00  3.90714781e-03  4.31443714e-01\n  -4.56144709e+00 -3.04294127e+00  3.73009575e+00 -3.45677876e+00\n  -3.04526800e+00 -4.01196529e+00 -2.74948053e+00  4.34272850e+00\n   2.74503445e+00 -2.32210490e+00 -1.70259470e-01  9.69827531e-01]\n [ 2.80494908e+00  1.67017110e+00 -1.63569681e-01  4.85713577e+00\n   6.79146616e-01  7.88807072e-01 -1.46035505e+00 -1.24402082e+00\n   3.04609525e-01 -3.71978676e+00 -4.45192632e+00  4.22574711e+00\n  -3.58279775e+00 -1.11058918e+00 -4.40608792e+00 -1.25745555e-01\n   6.62248105e-01  2.77445669e+00 -2.42468955e+00  4.37390386e+00]\n [ 2.50530527e-01 -2.57549968e-01  7.61573901e-01  2.38825517e+00\n  -1.92978845e+00 -2.77231969e+00 -9.54859641e-02 -1.79219764e+00\n   1.26323883e+00  4.50852066e+00 -4.33561896e+00  7.11681495e-01\n  -3.55430395e+00 -9.83991693e-01 -3.49999192e-01  1.78459589e+00\n  -4.77127768e+00 -3.99607264e+00  4.96556893e+00 -2.01766239e+00]\n [-9.87019130e-01 -2.64344397e-01  2.34934593e+00 -3.28461553e+00\n  -3.80148979e+00 -2.30684269e+00  2.75514622e+00 -4.97263393e+00\n   4.19457685e+00  3.18105201e+00  3.12580037e+00  2.74731047e+00\n   1.05265768e+00 -1.78765427e+00 -3.82112513e+00  5.40715931e-01\n  -1.89387252e+00  4.94626112e+00 -4.61639813e+00  3.38553591e+00]\n [-1.15938203e+00  3.94138031e+00  1.96365122e-01  3.77894204e+00\n  -2.53681415e-01  1.22622849e+00 -4.66101230e+00 -4.97092546e+00\n  -1.55053449e+00  1.72599366e+00 -1.23956409e+00 -4.73537670e+00\n   3.75421628e+00  5.90504110e-01 -1.06073997e+00  4.90485153e+00\n   2.61629694e+00 -3.65622174e-01 -2.64214000e+00 -4.95157864e+00]\n [ 3.95568922e+00 -1.08668279e-01 -5.75809953e-02 -2.35110341e+00\n  -1.50769680e+00  4.01999896e+00  2.22644858e+00  3.51432957e+00\n  -8.44436748e-01  1.44024438e+00  3.76351949e+00 -3.73237543e+00\n  -6.58873797e-01  1.69950086e+00 -1.69944742e+00 -6.78105302e-01\n   3.80038177e+00  2.07023438e+00  4.19223422e+00  1.12592403e+00]\n [-2.85895863e+00  4.84173130e+00  4.62428207e+00 -7.72349088e-01\n  -6.36299119e-01  3.37919797e+00 -1.71704595e+00 -1.92948941e+00\n   8.16341239e-01 -9.69644719e-01  1.37601135e+00  4.14301292e+00\n   4.94985826e+00  3.02312238e+00 -1.74679064e+00  3.29900765e+00\n  -1.96436384e+00 -2.66901880e+00 -1.21364790e+00  3.61410916e+00]\n [ 2.00016201e+00 -4.81304888e+00 -1.13823738e+00 -2.57335428e+00\n   4.24799409e+00 -2.17184353e+00  2.19561185e+00 -3.17043418e-01\n   2.56345949e+00 -4.57127911e+00 -4.09087498e+00  1.44705538e+00\n  -2.30014828e+00  4.73105799e+00  4.59958368e+00 -2.36316405e+00\n   4.39205190e+00 -1.32348710e+00 -4.97297071e+00 -2.08344015e+00]\n [-4.67602134e+00  2.65238728e+00 -4.17038982e+00 -4.02225135e+00\n   8.31937440e-01  2.11680875e+00  2.80622557e+00  3.42773159e+00\n   1.96670798e+00  1.46247569e+00  2.21683361e-02 -3.78751865e+00\n   3.27580683e+00 -3.07202333e+00  2.71609957e+00  3.69480832e+00\n  -1.16640375e+00 -1.58704204e+00  4.54174961e+00 -2.22546672e+00]\n [ 4.28087590e+00  1.86748560e+00 -2.69721339e+00 -1.47120693e+00\n  -2.19491895e-01 -4.33038825e+00  4.86878522e+00 -1.00854460e+00\n  -4.26054523e+00 -1.47125163e+00 -2.57926753e+00  2.75059764e+00\n  -1.58605585e+00  4.18218222e+00  2.77211689e+00 -4.30781326e+00\n  -2.54851583e+00 -4.34361525e-01 -2.15719048e+00 -2.65751041e-02]\n [ 2.98273034e+00 -3.73134717e+00 -1.00713888e+00  3.99662256e+00\n  -1.49148033e-01 -4.16763138e+00  3.13291434e+00  1.41002450e+00\n  -1.84036195e+00 -1.45925998e+00  2.95452859e+00  1.94884802e+00\n  -1.06550444e+00 -3.66691087e+00 -4.84244629e+00  4.62139158e+00\n  -4.14101529e+00 -1.05602354e+00  4.31290949e+00  2.28028148e-01]\n [-4.33559406e+00  4.60305382e+00 -3.58150729e+00 -1.16181819e-01\n   1.99890740e+00  3.22017015e+00 -1.32533546e+00 -1.09490299e+00\n   2.01709375e-01 -2.07989198e+00  2.75120403e+00 -3.80382952e+00\n   6.30822210e-02  2.81240043e+00  2.07211739e+00 -4.86616115e+00\n  -3.14868180e-01 -3.16933986e+00  1.73229487e+00 -2.47184533e+00]\n [ 2.11454661e+00  5.30759113e-01  3.19610731e+00  1.55471697e+00\n   3.38500320e+00  1.35880005e+00 -3.38908835e+00 -2.18806397e+00\n   6.13665960e-01 -3.50050561e+00  1.93409619e+00 -2.54656248e+00\n  -1.52081208e+00 -7.09646243e-01  3.37903598e-01  4.55736347e+00\n  -3.88912815e+00 -1.45288585e+00 -1.52239010e+00  1.20747540e+00]\n [-8.75349773e-01 -3.04978697e+00 -4.63439228e+00 -2.27410625e+00\n   8.10058300e-01  1.20159697e+00  2.92644069e+00 -2.08547290e-01\n   7.43151606e-01 -1.27501586e+00  4.68989281e+00  2.79612724e-01\n   2.31581671e+00  4.80252313e+00  1.70897723e+00  3.58705017e+00\n   3.65945229e+00 -3.45959620e+00 -5.38378071e-01 -2.66170408e+00]\n [ 2.49257574e+00  1.23810863e+00 -3.97738920e+00 -2.17954787e+00\n   3.93050549e+00  4.67975854e+00 -4.39032745e+00 -4.67673364e+00\n  -1.04479423e+00  2.11735920e+00  3.58519056e+00  2.02034372e+00\n   4.44157727e-01  1.81892020e+00 -3.11377585e+00 -1.30374742e+00\n   4.34510969e+00 -3.32975334e+00  3.20696673e+00 -2.38278042e+00]\n [-9.26667854e-01 -7.52713399e-01 -3.86549761e+00  2.80421187e-01\n  -3.07635380e+00 -3.45751706e+00  4.65230982e+00  9.66762670e-01\n   3.10708805e+00  4.85753174e+00 -2.94551903e+00 -4.76398454e+00\n   1.37617017e+00 -4.79010415e+00 -2.24725943e+00  3.17541308e-02\n  -3.25054315e+00 -3.96977893e+00 -7.66449269e-02  4.76741037e+00]\n [ 2.47819700e-01 -2.05366173e+00 -2.50573849e+00  8.26555863e-01\n   4.03028995e+00 -4.09822550e+00 -4.49506562e-01 -3.37549019e+00\n  -2.87556980e+00 -2.08989881e+00 -4.94455893e+00  2.70187061e+00\n   4.80787749e+00 -1.59848716e+00  3.17701070e+00 -1.31992809e+00\n   3.76065201e+00 -6.56370765e-01 -1.73762284e+00  2.85266096e+00]\n [-2.91057436e+00  4.90920819e+00 -2.49644900e+00  1.40261124e+00\n  -1.56292940e+00  4.20841071e+00 -7.33297053e-01 -1.91591730e+00\n   1.89817943e+00  2.06643148e+00 -1.19746248e+00 -3.64000299e+00\n   2.32149713e+00 -5.04608423e-01  2.56551047e+00  1.80179742e+00\n  -3.98605786e-01 -3.08866381e+00  7.37418459e-01 -8.82537930e-01]\n [-9.44889695e-01 -4.93803888e+00  2.68358090e+00 -1.36597782e+00\n   2.80774275e+00  2.56478116e+00 -4.71016379e+00 -4.19596193e+00\n  -7.46017560e-01 -2.11177301e+00 -6.48941915e-01  1.40777019e+00\n   4.71376097e-01  3.64242933e+00 -3.50355117e+00 -9.72862766e-01\n   2.74767953e+00  4.37887216e+00  4.05009373e+00  1.27175340e-01]] [ 0.02464224 -2.17059533  1.01166495  0.33832883  0.71323445 -0.48521975\n  0.41370285 -0.37285967  0.24717517  0.6593781   0.39553964  1.59333688\n -0.49601435 -0.68166242  0.87385401 -1.39743869  1.84726424  1.35853854\n -0.48540926 -0.15778065]\n"
    }
   ],
   "source": [
    "#ELM\n",
    "input_size = rfe_X_train.shape[1]\n",
    "hidden_size = 20\n",
    "\n",
    "input_weights = np.random.uniform(-5,5,size=(input_size,hidden_size))\n",
    "#input_weights = np.random.normal(size=[input_size, hidden_size])\n",
    "biases = np.random.normal(size=[hidden_size])\n",
    "\n",
    "print(input_weights,biases)\n"
   ]
  },
  {
   "cell_type": "code",
   "execution_count": 8,
   "metadata": {},
   "outputs": [
    {
     "output_type": "stream",
     "name": "stderr",
     "text": "<ipython-input-8-1ed99a0c591d>:2: RuntimeWarning: overflow encountered in exp\n  return 1.0 / (1.0 + np.exp(-x))\n"
    }
   ],
   "source": [
    "def sigmoid(x):\n",
    "    return 1.0 / (1.0 + np.exp(-x))\n",
    "\n",
    "def hidden_nodes(X):\n",
    "    G = np.dot(X, input_weights)\n",
    "    G = G + biases\n",
    "    H = sigmoid(G)\n",
    "    return H\n",
    "\n",
    "output_weights = np.dot(pinv2(hidden_nodes(rfe_X_train)), y_train)"
   ]
  },
  {
   "cell_type": "code",
   "execution_count": 9,
   "metadata": {},
   "outputs": [
    {
     "output_type": "stream",
     "name": "stdout",
     "text": "[11.0046301  10.87291129 11.10246734 ...  9.19423828 12.01924327\n  9.50544566] 0        16\n1        16\n2        16\n3        16\n4        20\n         ..\n22539    25\n22540    16\n22541    14\n22542    20\n22543    16\nName: labels, Length: 22544, dtype: int64\n<ipython-input-8-1ed99a0c591d>:2: RuntimeWarning: overflow encountered in exp\n  return 1.0 / (1.0 + np.exp(-x))\n"
    }
   ],
   "source": [
    "\n",
    "def predict(X):\n",
    "    out = hidden_nodes(X)\n",
    "    out = np.dot(out, output_weights)\n",
    "    return out\n",
    "\n",
    "prediction = predict(rfe_X_test)\n",
    "print (prediction, y_test)"
   ]
  },
  {
   "cell_type": "code",
   "execution_count": 12,
   "metadata": {
    "tags": [
     "outputPrepend",
     "outputPrepend",
     "outputPrepend",
     "outputPrepend",
     "outputPrepend",
     "outputPrepend",
     "outputPrepend",
     "outputPrepend",
     "outputPrepend",
     "outputPrepend",
     "outputPrepend",
     "outputPrepend"
    ]
   },
   "outputs": [
    {
     "output_type": "stream",
     "name": "stdout",
     "text": "Accuracy for  20  hidden nodes:  47.35212458537501\n"
    }
   ],
   "source": [
    "\n",
    "correct = 0\n",
    "total = rfe_X_test.shape[0]\n",
    "sum1 = 0\n",
    "\n",
    "for i in range(total):\n",
    "    predicted = prediction[i]\n",
    "    actual = y_test[i]\n",
    "    #print(prediction[i], predicted, y[i], actual)\n",
    "    sum1+= ((actual - predicted)**2)\n",
    "    #print(sum1)\n",
    "\n",
    "mse = sum1/total\n",
    "\n",
    "print('Accuracy for ', hidden_size, ' hidden nodes: ', mse)"
   ]
  },
  {
   "cell_type": "code",
   "execution_count": null,
   "metadata": {},
   "outputs": [],
   "source": []
  }
 ],
 "metadata": {
  "language_info": {
   "codemirror_mode": {
    "name": "ipython",
    "version": 3
   },
   "file_extension": ".py",
   "mimetype": "text/x-python",
   "name": "python",
   "nbconvert_exporter": "python",
   "pygments_lexer": "ipython3",
   "version": "3.8.5-final"
  },
  "orig_nbformat": 2,
  "kernelspec": {
   "name": "python38564bit4c5774dc0cae421aa50570d00b38c017",
   "display_name": "Python 3.8.5 64-bit"
  }
 },
 "nbformat": 4,
 "nbformat_minor": 2
}