{
 "cells": [
  {
   "cell_type": "code",
   "execution_count": 9,
   "metadata": {},
   "outputs": [],
   "source": [
    "import pandas as pd\n",
    "from sklearn.datasets import make_classification\n",
    "from sklearn.feature_selection import RFE\n",
    "from sklearn.tree import DecisionTreeClassifier\n",
    "from numpy import argmax, array\n",
    "from sklearn.preprocessing import LabelEncoder\n",
    "from sklearn.preprocessing import OneHotEncoder\n",
    "import numpy as np\n",
    "import pandas as pd\n",
    "from sklearn.model_selection import train_test_split\n",
    "from sklearn.preprocessing import OneHotEncoder\n",
    "from sklearn.preprocessing import MinMaxScaler\n",
    "from sklearn.preprocessing import StandardScaler\n",
    "from scipy.linalg import pinv2\n",
    "from sklearn.metrics import mean_squared_error\n",
    "import math"
   ]
  },
  {
   "cell_type": "code",
   "execution_count": 4,
   "metadata": {},
   "outputs": [
    {
     "output_type": "stream",
     "name": "stdout",
     "text": [
      "(22544, 42) (125973, 42)\n"
     ]
    }
   ],
   "source": [
    "train = pd.read_csv(\"kdd_train.csv\")\n",
    "test = pd.read_csv(\"kdd_test.csv\")\n",
    "\n",
    "print(test.shape,train.shape)\n",
    "#print(test['duration'])"
   ]
  },
  {
   "cell_type": "code",
   "execution_count": 5,
   "metadata": {
    "tags": []
   },
   "outputs": [
    {
     "output_type": "stream",
     "name": "stdout",
     "text": [
      "   duration  protocol_type  service  flag  src_bytes  dst_bytes  land  \\\n0         5              1       51     9       2429        475     0   \n1         0              2       12     9         45        134     0   \n2         0              2       12     9         45         80     0   \n3      1979              2       41     9        145        105     0   \n4     14462              1       41     4          1          0     0   \n\n   wrong_fragment  urgent  hot  ...  dst_host_count  dst_host_srv_count  \\\n0               0       0    0  ...             180                  57   \n1               0       0    0  ...             194                 155   \n2               0       0    0  ...             255                 255   \n3               0       0    0  ...             255                   2   \n4               0       0    0  ...             255                   2   \n\n   dst_host_same_srv_rate  dst_host_diff_srv_rate  \\\n0                    0.11                    0.02   \n1                    0.80                    0.02   \n2                    1.00                    0.00   \n3                    0.01                    0.84   \n4                    0.01                    0.68   \n\n   dst_host_same_src_port_rate  dst_host_srv_diff_host_rate  \\\n0                         0.01                         0.04   \n1                         0.01                         0.00   \n2                         0.01                         0.00   \n3                         1.00                         0.00   \n4                         1.00                         0.00   \n\n   dst_host_serror_rate  dst_host_srv_serror_rate  dst_host_rerror_rate  \\\n0                   0.0                       0.0                  0.87   \n1                   0.0                       0.0                  0.00   \n2                   0.0                       0.0                  0.00   \n3                   0.0                       0.0                  0.00   \n4                   0.0                       0.0                  1.00   \n\n   dst_host_srv_rerror_rate  \n0                       0.0  \n1                       0.0  \n2                       0.0  \n3                       0.0  \n4                       1.0  \n\n[5 rows x 41 columns] 0    16\n1    16\n2    16\n3    16\n4    20\nName: labels, dtype: int64\n"
     ]
    }
   ],
   "source": [
    "for i in ['protocol_type', 'service', \"flag\", \"labels\"]:\n",
    "    values_train = array(train[i])\n",
    "    values_test = array(test[i])\n",
    "    label_encoder = LabelEncoder()\n",
    "    integer_encoded_train = label_encoder.fit_transform(values_train)\n",
    "    integer_encoded_test = label_encoder.fit_transform(values_test)\n",
    "    train[i] = integer_encoded_train\n",
    "    test[i] = integer_encoded_test\n",
    "\n",
    "X_train = train.iloc[:, :41]\n",
    "y_train = train.iloc[:, 41]\n",
    "\n",
    "X_test = test.iloc[:, :41]\n",
    "y_test = test.iloc[:, 41]\n",
    "\n",
    "#print(X_train.head(),y_train.head())\n",
    "print(X_test.head(),y_test.head())\n",
    "#print(list(y_train))"
   ]
  },
  {
   "cell_type": "code",
   "execution_count": 6,
   "metadata": {},
   "outputs": [
    {
     "output_type": "stream",
     "name": "stdout",
     "text": [
      "Column: 0, Selected True, Rank: 1.000\n",
      "Column: 1, Selected True, Rank: 1.000\n",
      "Column: 2, Selected True, Rank: 1.000\n",
      "Column: 3, Selected True, Rank: 1.000\n",
      "Column: 4, Selected True, Rank: 1.000\n",
      "Column: 5, Selected False, Rank: 2.000\n",
      "Column: 6, Selected False, Rank: 5.000\n",
      "Column: 7, Selected True, Rank: 1.000\n",
      "Column: 8, Selected False, Rank: 13.000\n",
      "Column: 9, Selected True, Rank: 1.000\n",
      "Column: 10, Selected False, Rank: 3.000\n",
      "Column: 11, Selected False, Rank: 7.000\n",
      "Column: 12, Selected True, Rank: 1.000\n",
      "Column: 13, Selected False, Rank: 12.000\n",
      "Column: 14, Selected False, Rank: 17.000\n",
      "Column: 15, Selected False, Rank: 16.000\n",
      "Column: 16, Selected False, Rank: 10.000\n",
      "Column: 17, Selected False, Rank: 9.000\n",
      "Column: 18, Selected False, Rank: 18.000\n",
      "Column: 19, Selected False, Rank: 21.000\n",
      "Column: 20, Selected False, Rank: 22.000\n",
      "Column: 21, Selected False, Rank: 20.000\n",
      "Column: 22, Selected True, Rank: 1.000\n",
      "Column: 23, Selected False, Rank: 8.000\n",
      "Column: 24, Selected True, Rank: 1.000\n",
      "Column: 25, Selected False, Rank: 19.000\n",
      "Column: 26, Selected True, Rank: 1.000\n",
      "Column: 27, Selected False, Rank: 15.000\n",
      "Column: 28, Selected True, Rank: 1.000\n",
      "Column: 29, Selected True, Rank: 1.000\n",
      "Column: 30, Selected False, Rank: 14.000\n",
      "Column: 31, Selected True, Rank: 1.000\n",
      "Column: 32, Selected True, Rank: 1.000\n",
      "Column: 33, Selected False, Rank: 6.000\n",
      "Column: 34, Selected True, Rank: 1.000\n",
      "Column: 35, Selected True, Rank: 1.000\n",
      "Column: 36, Selected True, Rank: 1.000\n",
      "Column: 37, Selected True, Rank: 1.000\n",
      "Column: 38, Selected True, Rank: 1.000\n",
      "Column: 39, Selected False, Rank: 4.000\n",
      "Column: 40, Selected False, Rank: 11.000\n",
      "(125973, 20)    duration  protocol_type  service  flag  src_bytes  wrong_fragment  hot  \\\n",
      "0         5              1       51     9       2429               0    0   \n",
      "1         0              2       12     9         45               0    0   \n",
      "2         0              2       12     9         45               0    0   \n",
      "3      1979              2       41     9        145               0    0   \n",
      "4     14462              1       41     4          1               0    0   \n",
      "\n",
      "   num_compromised  count  serror_rate  rerror_rate  same_srv_rate  \\\n",
      "0                0      1          0.0          0.0           1.00   \n",
      "1                0    192          0.0          0.0           0.99   \n",
      "2                0    121          0.0          0.0           1.00   \n",
      "3                0      2          0.0          0.0           1.00   \n",
      "4                0      2          0.0          1.0           1.00   \n",
      "\n",
      "   diff_srv_rate  dst_host_count  dst_host_srv_count  dst_host_diff_srv_rate  \\\n",
      "0           0.00             180                  57                    0.02   \n",
      "1           0.01             194                 155                    0.02   \n",
      "2           0.00             255                 255                    0.00   \n",
      "3           0.00             255                   2                    0.84   \n",
      "4           0.00             255                   2                    0.68   \n",
      "\n",
      "   dst_host_same_src_port_rate  dst_host_srv_diff_host_rate  \\\n",
      "0                         0.01                         0.04   \n",
      "1                         0.01                         0.00   \n",
      "2                         0.01                         0.00   \n",
      "3                         1.00                         0.00   \n",
      "4                         1.00                         0.00   \n",
      "\n",
      "   dst_host_serror_rate  dst_host_srv_serror_rate  \n",
      "0                   0.0                       0.0  \n",
      "1                   0.0                       0.0  \n",
      "2                   0.0                       0.0  \n",
      "3                   0.0                       0.0  \n",
      "4                   0.0                       0.0  \n",
      "0         0.00\n",
      "1         0.00\n",
      "2         0.00\n",
      "3         0.01\n",
      "4         0.00\n",
      "          ... \n",
      "125968    0.00\n",
      "125969    0.00\n",
      "125970    0.00\n",
      "125971    0.00\n",
      "125972    0.00\n",
      "Name: dst_host_srv_rerror_rate, Length: 125973, dtype: float64\n"
     ]
    }
   ],
   "source": [
    "\n",
    "rfe = RFE(estimator=DecisionTreeClassifier(), n_features_to_select=20)\n",
    "# fit RFE\n",
    "rfe.fit(X_train, y_train)\n",
    "# summarize all features\n",
    "rfe_X_train = pd.DataFrame()\n",
    "rfe_X_test = pd.DataFrame()\n",
    "for i in range(X_train.shape[1]):\n",
    "    print('Column: %d, Selected %s, Rank: %.3f' % (i, rfe.support_[i], rfe.ranking_[i]))\n",
    "    col_name_train = train[train.columns[i]]\n",
    "    col_name_test = test[test.columns[i]]\n",
    "    if rfe.support_[i]:\n",
    "        rfe_X_train = pd.concat([rfe_X_train, col_name_train], axis = 1)\n",
    "        rfe_X_test = pd.concat([rfe_X_test, col_name_test], axis = 1)\n",
    "      \n",
    "print (rfe_X_train.shape, rfe_X_test.head())\n",
    "print(col_name_train)\n"
   ]
  },
  {
   "cell_type": "code",
   "execution_count": 23,
   "metadata": {},
   "outputs": [
    {
     "output_type": "stream",
     "name": "stdout",
     "text": [
      "[[-1.11866772e+00  2.39591680e+00  1.90674268e+00 -2.67134321e+00\n   1.61637887e+00 -4.97268781e-03  3.68078673e+00 -1.12266572e+00\n  -1.11270234e+00  3.51318275e+00 -4.74441318e+00 -4.52919675e+00\n   1.79631717e+00 -1.92622057e+00  4.28109503e+00 -5.96042903e-01\n   4.41486771e+00 -9.57216164e-01 -4.31279664e+00  1.10666250e+00]\n [-4.85367969e-01  6.69500262e-01  4.21540121e+00  3.73197409e+00\n  -2.85517190e+00 -1.26723181e+00 -6.96723576e-01 -4.60962469e+00\n  -9.38825074e-01 -1.09123875e+00  1.01402456e+00  4.94283036e+00\n   3.83096848e+00 -2.53633104e+00  1.50504099e+00  2.31635738e+00\n  -5.24737558e-01 -1.36475398e-01  4.23566606e-01  2.44658966e+00]\n [ 4.84083474e-01 -1.68729465e+00 -2.96077752e+00  3.28662148e-01\n  -2.16884611e+00  1.52390632e+00 -2.10404727e+00 -4.71852022e+00\n  -2.26125020e+00 -3.38804347e+00  1.97434252e+00  4.72189389e+00\n  -4.47497809e+00  3.65479188e+00 -3.31106097e+00 -2.72430366e+00\n   4.77612666e+00  1.14345678e+00 -3.34522365e+00 -1.65355624e-01]\n [-1.47423897e+00  3.01016736e+00  1.31575038e-01 -4.02712328e+00\n   5.83937383e-01 -3.12826451e+00 -7.89187383e-01 -3.95361269e+00\n   4.61881438e+00  1.74022053e+00 -4.79093938e+00  4.06907393e+00\n   3.58210349e+00  1.08435984e+00  2.33377004e+00 -6.80765947e-01\n  -3.64688319e+00  4.60437523e-01  3.79582913e+00  9.35608435e-01]\n [ 2.18079159e+00  1.96918584e+00 -4.92618107e+00  3.17391260e+00\n  -4.64081521e+00  2.11501829e+00 -1.92945788e+00  3.64528690e+00\n  -3.14740822e+00 -4.38973200e+00  2.34977549e+00 -4.38133554e+00\n  -2.35841390e+00 -7.57976640e-01  2.12628241e+00  4.86807213e+00\n  -4.17317818e+00 -1.58299329e+00 -1.87312810e+00  2.10192046e+00]\n [ 3.07484230e+00  2.53752017e+00 -1.53155782e+00  4.24155966e+00\n   2.87022493e-01  2.71111983e+00 -4.38958947e-01  3.61897084e+00\n   2.56572176e+00  2.03786775e+00 -3.81619220e+00 -4.75839682e-01\n   2.44271802e+00 -4.92736068e+00  5.30331324e-01 -7.69486485e-02\n   4.64355790e+00  3.31219708e+00  4.01300110e+00  1.39634178e+00]\n [-1.92472102e+00  1.41525495e+00  4.28976739e-01  3.55282758e+00\n   3.94970643e+00  1.57565896e+00  1.63545573e-01  5.09055977e-01\n  -1.50320960e+00 -4.95076917e+00 -2.80151031e-01  3.77772819e+00\n   4.72175910e+00 -3.92868019e+00 -1.04332030e+00 -2.62132041e+00\n  -2.91022846e+00  4.61451678e+00  1.93290250e+00 -2.82734929e+00]\n [-2.80770221e+00 -2.08086687e-01 -1.38196172e+00  3.78074337e+00\n  -3.75617635e-01 -8.74389415e-01 -1.19343946e-01  3.52107134e+00\n  -1.71318099e+00  1.77038325e-01 -3.09565944e+00  3.83358908e+00\n   2.46283519e+00  7.90159643e-01  3.72896936e+00 -2.51393685e+00\n  -2.11610227e+00  3.72436089e+00  4.58020728e+00  4.04064974e+00]\n [-3.05021641e+00 -3.26828138e+00  4.18280040e+00 -3.85251010e+00\n  -2.61316680e+00 -2.63415031e+00 -4.35827201e+00  2.00827187e+00\n  -1.25552658e+00  3.96151058e+00 -6.49011730e-01  2.26058805e+00\n   1.99484123e+00 -4.40592151e+00  1.76364807e+00  6.53932410e-01\n  -3.55109873e-01 -3.69116522e+00  3.15402788e+00  3.31351633e+00]\n [ 4.99541616e+00 -4.38835721e+00  1.31790319e+00 -4.77328098e+00\n   1.36005760e+00 -6.86464097e-01 -4.99706475e-01  2.00912034e+00\n   1.92382237e+00  1.24651053e+00 -4.58164487e+00  1.68645864e+00\n   3.07450912e-01 -3.40512838e+00  4.27020629e+00  4.10105469e+00\n  -4.91113067e+00  6.09966206e-02  4.92818467e-01 -3.89798361e+00]\n [ 1.38781991e+00 -3.42896181e+00 -8.61064410e-01 -5.29472098e-01\n  -2.23853230e+00 -4.45043135e+00 -3.53512247e+00 -2.86629612e+00\n  -2.98938462e+00 -3.22379343e+00 -1.33203318e+00 -4.26257962e+00\n  -2.68049200e+00 -1.32145269e+00  3.91798359e+00 -4.98221689e+00\n  -1.48141882e+00  2.83294237e-01  3.24961829e+00 -1.70573846e-01]\n [ 5.26084147e-01  3.17636769e-01 -4.42534670e+00 -8.16292145e-01\n  -2.68533806e+00 -3.73059809e+00 -4.25404999e+00  1.77046226e+00\n  -3.47080222e+00 -2.00342058e+00 -3.45675640e+00  1.21067878e+00\n  -2.90899652e+00  1.09366995e+00 -3.00612441e+00 -8.16155332e-01\n  -9.34297909e-01 -2.86460879e+00 -2.71968271e+00 -3.49216331e+00]\n [-6.43059352e-01  1.14592213e+00 -4.59734987e+00  2.47041027e+00\n   6.27852566e-01  3.09398157e+00 -3.06204019e+00  4.89257615e+00\n  -2.91095286e+00 -2.78845703e+00  2.22240627e+00  3.05122602e+00\n   7.12981408e-01  6.92031246e-01  2.21973389e+00  3.62974592e+00\n  -4.22614523e+00  1.22635456e-01  4.88834900e+00  2.31664935e-01]\n [-2.96799386e+00  2.16114907e+00  1.36532310e+00 -4.08669150e+00\n  -3.39648303e+00 -3.99598224e+00  4.91089433e+00  3.35013990e+00\n   2.24567958e+00  4.18976268e+00 -1.22254989e+00 -1.62937051e+00\n  -2.83900018e+00 -1.69668682e+00 -3.81016484e+00 -3.43968048e-01\n   3.95218064e+00 -3.21068171e+00  4.05164617e+00 -2.59748325e+00]\n [-2.45737364e+00 -3.46344568e+00 -2.55195445e+00  2.48280554e+00\n   1.83724417e+00  3.59596373e+00  4.48571953e+00  1.36018339e+00\n   7.81180283e-01 -3.33908171e+00  4.86985716e+00 -3.98763939e+00\n   3.11147545e+00  1.74975955e+00  4.95170819e+00 -3.52716790e+00\n  -1.10878041e+00  3.02120922e+00  1.88427413e+00 -1.84835740e+00]\n [ 4.56193399e+00 -1.33378933e+00 -4.25964805e+00 -4.00544259e+00\n   1.21200369e-01  1.13976842e-01  1.27544742e+00  1.51183766e+00\n   2.16319142e+00  1.33188145e+00  3.18215148e+00 -3.51558452e+00\n  -3.91096221e+00 -4.69659396e+00 -6.98261031e-01  4.08182920e+00\n   2.56883008e+00 -6.32802128e-01  1.23177538e+00 -1.81833986e+00]\n [ 4.03703732e-01 -1.77498100e+00  9.18862618e-01 -1.79530378e+00\n   1.79644276e+00  2.18718418e+00  1.79823433e+00  3.95963833e+00\n   2.27497881e+00 -1.99808706e+00  3.48453641e+00 -7.99837206e-01\n  -8.55038493e-01 -4.43504157e+00 -4.70298753e+00  1.22671378e+00\n  -3.81102875e+00  3.68413421e+00  1.10131486e+00 -3.48200461e-01]\n [-3.68012275e+00  4.33872853e-01 -2.35850656e+00  3.08348442e+00\n  -3.96912405e+00  4.30579295e+00 -2.54513152e+00  3.84247161e+00\n  -3.31225857e+00  1.59716126e+00 -4.69182979e+00 -1.60170113e+00\n   4.02745837e+00  3.87442961e+00 -2.32479413e+00  2.73021601e+00\n  -6.11042098e-01 -4.18157393e+00 -1.67219268e+00 -3.76542500e+00]\n [ 4.84440906e+00  2.75630970e+00 -2.21346083e+00 -3.94308897e+00\n  -3.71149703e+00  1.44453814e+00  4.24305455e+00 -5.70949744e-01\n   3.69097448e+00  4.97860995e-02  9.34532269e-01  1.40598891e-02\n   1.56314174e+00  2.03876465e-01 -4.59513221e-01  4.37049399e+00\n  -3.64281426e+00  4.30397202e+00 -2.54681909e+00 -1.00935493e-01]\n [ 2.18595185e+00 -2.21399733e+00 -3.92579658e+00  8.79239785e-01\n   3.18259386e+00  1.79860897e+00  5.33162924e-01 -2.95342076e+00\n   3.97255560e+00  1.84854413e+00  3.87678428e+00  7.96540583e-01\n   1.46003108e-01  4.70311204e+00  3.00405348e-01  2.27415356e+00\n   2.61959826e+00 -3.58586672e+00  1.83807127e+00 -3.63297672e+00]] [ 0.28636878  0.40461988  0.01412182 -0.52177322 -0.51665337  0.31484973\n -0.89330096 -0.15999434 -0.70248029  0.45431818  1.47905953 -1.41816014\n -0.9183799   0.10516612  1.14146103  0.57923954 -1.60478849  1.4583583\n  1.34616265 -2.11136662]\n"
     ]
    }
   ],
   "source": [
    "#ELM\n",
    "input_size = rfe_X_train.shape[1]\n",
    "hidden_size = 20\n",
    "\n",
    "input_weights = np.random.uniform(-5,5,size=(input_size,hidden_size))\n",
    "#input_weights = np.random.normal(size=[input_size, hidden_size])\n",
    "biases = np.random.normal(size=[hidden_size])\n",
    "\n",
    "print(input_weights,biases)\n"
   ]
  },
  {
   "cell_type": "code",
   "execution_count": 24,
   "metadata": {},
   "outputs": [
    {
     "output_type": "stream",
     "name": "stderr",
     "text": [
      "<ipython-input-24-1ed99a0c591d>:2: RuntimeWarning: overflow encountered in exp\n  return 1.0 / (1.0 + np.exp(-x))\n"
     ]
    }
   ],
   "source": [
    "def sigmoid(x):\n",
    "    return 1.0 / (1.0 + np.exp(-x))\n",
    "\n",
    "def hidden_nodes(X):\n",
    "    G = np.dot(X, input_weights)\n",
    "    G = G + biases\n",
    "    H = sigmoid(G)\n",
    "    return H\n",
    "\n",
    "output_weights = np.dot(pinv2(hidden_nodes(rfe_X_train)), y_train)"
   ]
  },
  {
   "cell_type": "code",
   "execution_count": 25,
   "metadata": {},
   "outputs": [
    {
     "output_type": "stream",
     "name": "stdout",
     "text": [
      "MSE:  47.31095358876977\n",
      "RMSE:  6.878295834635915\n",
      "<ipython-input-24-1ed99a0c591d>:2: RuntimeWarning: overflow encountered in exp\n",
      "  return 1.0 / (1.0 + np.exp(-x))\n"
     ]
    }
   ],
   "source": [
    "\n",
    "def predict(X):\n",
    "    out = hidden_nodes(X)\n",
    "    out = np.dot(out, output_weights)\n",
    "    return out\n",
    "\n",
    "prediction = predict(rfe_X_test)\n",
    "print(\"MSE: \",mean_squared_error(y_test,prediction))\n",
    "print(\"RMSE: \",math.sqrt(mean_squared_error(y_test,prediction)))"
   ]
  },
  {
   "cell_type": "code",
   "execution_count": 12,
   "metadata": {
    "tags": [
     "outputPrepend",
     "outputPrepend",
     "outputPrepend",
     "outputPrepend",
     "outputPrepend",
     "outputPrepend",
     "outputPrepend",
     "outputPrepend",
     "outputPrepend",
     "outputPrepend",
     "outputPrepend",
     "outputPrepend"
    ]
   },
   "outputs": [
    {
     "output_type": "stream",
     "name": "stdout",
     "text": "Accuracy for  20  hidden nodes:  47.35212458537501\n"
    }
   ],
   "source": [
    "\n",
    "correct = 0\n",
    "total = rfe_X_test.shape[0]\n",
    "sum1 = 0\n",
    "\n",
    "for i in range(total):\n",
    "    predicted = prediction[i]\n",
    "    actual = y_test[i]\n",
    "    #print(prediction[i], predicted, y[i], actual)\n",
    "    sum1+= ((actual - predicted)**2)\n",
    "    #print(sum1)\n",
    "\n",
    "mse = sum1/total\n",
    "\n",
    "print('Accuracy for ', hidden_size, ' hidden nodes: ', mse)"
   ]
  },
  {
   "cell_type": "code",
   "execution_count": null,
   "metadata": {},
   "outputs": [],
   "source": []
  }
 ],
 "metadata": {
  "language_info": {
   "codemirror_mode": {
    "name": "ipython",
    "version": 3
   },
   "file_extension": ".py",
   "mimetype": "text/x-python",
   "name": "python",
   "nbconvert_exporter": "python",
   "pygments_lexer": "ipython3",
   "version": "3.8.5"
  },
  "orig_nbformat": 2,
  "kernelspec": {
   "name": "python385jvsc74a57bd05ea2a468c9521de119e6af1f07ff928e1bade94b0f6948efedbcf9d9f0f8ee96",
   "display_name": "Python 3.8.5 64-bit ('base': conda)"
  }
 },
 "nbformat": 4,
 "nbformat_minor": 2
}